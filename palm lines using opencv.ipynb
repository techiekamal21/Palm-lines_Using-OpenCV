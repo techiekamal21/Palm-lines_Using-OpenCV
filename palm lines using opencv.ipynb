{
 "cells": [
  {
   "cell_type": "code",
   "execution_count": 4,
   "id": "eadc3946",
   "metadata": {},
   "outputs": [
    {
     "data": {
      "text/plain": [
       "-1"
      ]
     },
     "execution_count": 4,
     "metadata": {},
     "output_type": "execute_result"
    }
   ],
   "source": [
    "import cv2\n",
    "image = cv2.imread(\"kpplam.jpg\")\n",
    "cv2.imshow(\"palm\",image) #to view the palm in python\n",
    "cv2.waitKey(0)\n",
    "\n"
   ]
  },
  {
   "cell_type": "code",
   "execution_count": 5,
   "id": "ed7080c1",
   "metadata": {},
   "outputs": [],
   "source": [
    "gray = cv2.cvtColor(image,cv2.COLOR_BGR2GRAY)"
   ]
  },
  {
   "cell_type": "code",
   "execution_count": 10,
   "id": "200a305c",
   "metadata": {},
   "outputs": [
    {
     "data": {
      "text/plain": [
       "-1"
      ]
     },
     "execution_count": 10,
     "metadata": {},
     "output_type": "execute_result"
    }
   ],
   "source": [
    "edges = cv2.Canny(gray,40,55,apertureSize = 3)\n",
    "cv2.imshow(\"edges in kppalm\",edges)\n",
    "cv2.waitKey(0)"
   ]
  },
  {
   "cell_type": "code",
   "execution_count": 11,
   "id": "457369e7",
   "metadata": {},
   "outputs": [],
   "source": [
    "edges = cv2.bitwise_not(edges)"
   ]
  },
  {
   "cell_type": "code",
   "execution_count": 13,
   "id": "54477c8e",
   "metadata": {},
   "outputs": [],
   "source": [
    "cv2.imwrite(\"palmlines.jpg\", edges)\n",
    "palmlines = cv2.imread(\"palmlines.jpg\")\n",
    "img = cv2.addWeighted(palmlines, 0.3, image, 0.7, 0)"
   ]
  },
  {
   "cell_type": "code",
   "execution_count": null,
   "id": "8813520d",
   "metadata": {},
   "outputs": [],
   "source": []
  },
  {
   "cell_type": "code",
   "execution_count": null,
   "id": "53392f84",
   "metadata": {},
   "outputs": [],
   "source": []
  }
 ],
 "metadata": {
  "kernelspec": {
   "display_name": "Python 3 (ipykernel)",
   "language": "python",
   "name": "python3"
  },
  "language_info": {
   "codemirror_mode": {
    "name": "ipython",
    "version": 3
   },
   "file_extension": ".py",
   "mimetype": "text/x-python",
   "name": "python",
   "nbconvert_exporter": "python",
   "pygments_lexer": "ipython3",
   "version": "3.9.7"
  }
 },
 "nbformat": 4,
 "nbformat_minor": 5
}
